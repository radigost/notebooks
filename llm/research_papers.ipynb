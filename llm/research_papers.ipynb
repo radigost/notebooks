{
 "cells": [
  {
   "cell_type": "code",
   "execution_count": 1,
   "metadata": {},
   "outputs": [],
   "source": [
    "import warnings\n",
    "import os\n",
    "from dotenv import load_dotenv\n",
    "from langchain_community.chat_models import ChatOpenAI\n",
    "\n",
    "\n",
    "warnings.filterwarnings(\"ignore\", category=DeprecationWarning) \n",
    "load_dotenv()\n",
    "openAIApiKey = os.getenv(\"OPENAI_API_KEY\")\n",
    "\n",
    "\n",
    "llm = ChatOpenAI(api_key=openAIApiKey)"
   ]
  },
  {
   "cell_type": "markdown",
   "metadata": {},
   "source": [
    "# Agent"
   ]
  },
  {
   "cell_type": "code",
   "execution_count": 2,
   "metadata": {},
   "outputs": [
    {
     "name": "stderr",
     "output_type": "stream",
     "text": [
      "WARNING:root:USER_AGENT environment variable not set, consider setting it to identify your requests.\n",
      "e:\\CodeProjects\\notebooks\\.venv\\Lib\\site-packages\\langchain_core\\_api\\deprecation.py:119: LangChainDeprecationWarning: The class `OpenAIEmbeddings` was deprecated in LangChain 0.0.9 and will be removed in 0.3.0. An updated version of the class exists in the langchain-openai package and should be used instead. To use it run `pip install -U langchain-openai` and import as `from langchain_openai import OpenAIEmbeddings`.\n",
      "  warn_deprecated(\n"
     ]
    }
   ],
   "source": [
    "from langchain_community.embeddings import OpenAIEmbeddings\n",
    "from langchain_community.document_loaders import WebBaseLoader\n",
    "loader = WebBaseLoader(\"https://docs.smith.langchain.com/overview\")\n",
    "\n",
    "docs = loader.load()\n",
    "\n",
    "embeddings = OpenAIEmbeddings(api_key=openAIApiKey)\n",
    "from langchain_community.vectorstores import DocArrayInMemorySearch\n",
    "from langchain.text_splitter import RecursiveCharacterTextSplitter\n",
    "\n",
    "\n",
    "text_splitter = RecursiveCharacterTextSplitter()\n",
    "documents = text_splitter.split_documents(docs)\n",
    "vector = DocArrayInMemorySearch.from_documents(documents, embeddings)"
   ]
  },
  {
   "cell_type": "code",
   "execution_count": 3,
   "metadata": {},
   "outputs": [],
   "source": [
    "from langchain.tools.retriever import create_retriever_tool\n",
    "from langchain.chains import create_retrieval_chain\n",
    "from langchain.chains.combine_documents import create_stuff_documents_chain\n",
    "from langchain.prompts import ChatPromptTemplate\n",
    "\n",
    "prompt = ChatPromptTemplate.from_template(\"\"\"Answer the following question based only on the provided context:\n",
    "<context>\n",
    "{context}\n",
    "</context>\n",
    "Question: {input}\"\"\")\n",
    "\n",
    "document_chain = create_stuff_documents_chain(llm, prompt)\n",
    "\n",
    "retriever = vector.as_retriever()\n",
    "retrieval_chain = create_retrieval_chain(retriever, document_chain)\n",
    "\n",
    "retriever_tool = create_retriever_tool(\n",
    "    retriever,\n",
    "    \"langsmith_search\",\n",
    "    \"Search for information about LangSmith. For any questions about LangSmith, you must use this tool!\",\n",
    ")"
   ]
  },
  {
   "cell_type": "code",
   "execution_count": 4,
   "metadata": {},
   "outputs": [],
   "source": [
    "from langchain_community.tools.tavily_search import TavilySearchResults\n",
    "load_dotenv() \n",
    "tavilyKey = os.getenv(\"TAVILY_API_KEY\")\n",
    "search = TavilySearchResults(tavily_api_key=tavilyKey)"
   ]
  },
  {
   "cell_type": "code",
   "execution_count": 5,
   "metadata": {},
   "outputs": [],
   "source": [
    "tools = [retriever_tool, search]"
   ]
  },
  {
   "cell_type": "code",
   "execution_count": 6,
   "metadata": {},
   "outputs": [],
   "source": [
    "from langchain_community.chat_models import ChatOpenAI\n",
    "from langchain import hub\n",
    "from langchain.agents import create_openai_functions_agent\n",
    "from langchain.agents import AgentExecutor\n",
    "\n",
    "# Get the prompt to use - you can modify this!\n",
    "prompt = hub.pull(\"hwchase17/openai-functions-agent\")\n",
    "llm = ChatOpenAI(model=\"gpt-4\", temperature=0)\n",
    "agent = create_openai_functions_agent(llm, tools, prompt)\n",
    "agent_executor = AgentExecutor(agent=agent, tools=tools, verbose=True)"
   ]
  },
  {
   "cell_type": "code",
   "execution_count": 7,
   "metadata": {},
   "outputs": [
    {
     "name": "stdout",
     "output_type": "stream",
     "text": [
      "\n",
      "\n",
      "\u001b[1m> Entering new AgentExecutor chain...\u001b[0m\n",
      "\u001b[32;1m\u001b[1;3m\n",
      "Invoking: `tavily_search_results_json` with `{'query': 'current state of Artificial Synapse'}`\n",
      "\n",
      "\n",
      "\u001b[0m\u001b[33;1m\u001b[1;3m[{'url': 'https://onlinelibrary.wiley.com/doi/full/10.1002/aelm.202300889', 'content': 'The artificial synapse, a key element for learning and memory operations in neuromorphic computing, requires multi-state characteristics and the capability to change and store its states. The implementation of hardware-based artificial synapses using nonvolatile memory provides significant advantages in terms of energy consumption and circuit ...'}, {'url': 'https://onlinelibrary.wiley.com/doi/10.1002/smll.202100640', 'content': 'First, the fundamental synaptic behavior is reviewed, such as synaptic plasticity and learning rule, and requirements of artificial synapses to emulate biological synapses. In addition, an overview of recent advances on 2D materials-based synaptic devices is summarized by categorizing these into various working principles of artificial synapses.'}, {'url': 'https://pubs.rsc.org/en/content/articlelanding/2021/tc/d1tc01211h', 'content': 'Artificial synapses are memristor-based devices mimicking biological synapses, and they are used in neuromorphic computing systems that process information in a parallel, energy efficient way and store information in an analog, non-volatile form. The next generation of computing systems are anticipated to us Journal of Materials Chemistry C Recent Review Articles'}, {'url': 'https://www.sciencedirect.com/science/article/pii/S2211285522008229', 'content': \"The device's transfer characteristics in Fig. 8 c show that the off-state current increases as light intensity do, ... This work proposes a hybrid self-activated artificial synapse system of bio-realistic performance and extended modality of sensory inputs, revealing that not only hybrid of low-dimensional nanomaterials, artificial synapses ...\"}, {'url': 'https://www.nature.com/articles/s41378-023-00487-2', 'content': \"Advertisement\\nRecent progress in three-terminal artificial synapses based on 2D materials: from mechanisms to applications\\nMicrosystems & Nanoengineering\\nvolumeÂ\\xa09, ArticleÂ\\xa0number:Â\\xa016 (2023)\\nCite this article\\n6348 Accesses\\n11 Citations\\n3 Altmetric\\nMetrics details\\nSubjects\\nAbstract\\nSynapses are essential for the transmission of neural signals. Provided by the Springer Nature SharedIt content-sharing initiative\\nAssociated content\\nCollection\\nReaders' Choice: Hot papers of MINE 2023\\nAdvertisement\\nExplore content\\nAbout the journal\\nPublish with us\\nSearch\\nQuick links\\nMicrosystems & Nanoengineering (Microsyst Nanoeng)\\nISSN 2055-7434 (online Similar content being viewed by others\\nA biohybrid synapse with neurotransmitter-mediated plasticity\\nScott T. Keene, Claudia Lubrano, â€¦ Francesca Santoro\\nAn artificial synapse based on molecular junctions\\nYuchun Zhang, Lin Liu, â€¦ Yong Yan\\nNeuromorphic nanoelectronic materials\\nVinod K. Sangwan & Mark C. Hersam\\nIntroduction\\nCognition and memory are the main sources of human intelligence. )\\nnature.com sitemap\\nAbout Nature Portfolio\\nDiscover content\\nPublishing policies\\nAuthor & Researcher services\\nLibraries & institutions\\nAdvertising & partnerships\\nProfessional development\\nRegional websites\\n ArticleÂ\\nGoogle ScholarÂ\\nDownload references\\nAcknowledgements\\nThis work was supported by the National Key R&D Program of China (Grant No. 2019YFB1309701), the National Natural Science Foundation of China (NSFC, Grant Nos. 3020021501839 and 61804009), and the Beijing Institute of Technology Research Fund Program for Young Scholars and Analysis & Testing Center, Beijing Institute of Technology.\\n\"}]\u001b[0m\u001b[32;1m\u001b[1;3m\n",
      "Invoking: `tavily_search_results_json` with `{'query': 'main patents in Artificial Synapse field'}`\n",
      "\n",
      "\n",
      "\u001b[0m\u001b[33;1m\u001b[1;3m[{'url': 'https://www.nature.com/articles/s41467-023-35817-5', 'content': 'Briefly, the thickness dSAM is obtained from the S 2p spectra, and calculated according to the equation\\\\(\\\\,\\\\,{d}_{{{{{{\\\\rm{SAM}}}}}}}=\\\\frac{{{{{{\\\\rm{\\\\lambda }}}}}}{{{{{\\\\rm{sin }}}}}}{\\\\theta }_{1}{{{{{\\\\rm{sin }}}}}} {\\\\theta }_{2}\\\\left\\\\{{{{{{\\\\rm{ln}}}}}}\\\\left(\\\\frac{{I}_{{\\\\theta }_{1}}}{{I}_{{\\\\theta }_{2}}}\\\\right)+{{{{{\\\\rm{ln}}}}}}\\\\left[1-{{{{{\\\\rm{e}}}}}}^{-\\\\frac{x}{\\\\lambda {{{{{\\\\rm{sin }}}}}} {\\\\theta }_{2}}}\\\\right]-{{{{{\\\\rm{ln}}}}}}\\\\left[1-{{{{{\\\\rm{e}}}}}}^{-\\\\frac{x}{\\\\lambda {{{{{\\\\rm{sin }}}}}} {\\\\theta }_{1}}}\\\\right]\\\\right\\\\}}{{{{{{\\\\rm{sin }}}}}}{\\\\theta }_{1}-{{{{{\\\\rm{sin }}}}}} {\\\\theta }_{2}}\\\\,+{d}_{{{{{{\\\\rm{Ag}}}}}}-{{{{{\\\\rm{S}}}}}}}\\\\), where Î» (ï½ž11â€‰Ã…)60 is the inelastic mean free path of photoelectrons with kinetic energy of ï½ž180â€‰eV in peptide SAMs, Î¸ is the take-off angle, x (~1.5â€‰Ã…) is estimated by the length of Sâ€“C bond, dAgâ€“S (~1.8â€‰Ã…) is estimated from the length of Agâ€“S bond, and the effective intensities IÎ¸ are calculated according to \\\\({I}_{\\\\theta }=I\\\\cos ({90}^{o}-\\\\,\\\\gamma )\\\\) (where I is the intensity from the spectra and Î³ is the angle of the incident beam and the substrate). Author information\\nThese authors contributed equally: Yuchun Zhang, Lin Liu, Bin Tu, Bin Cui.\\nAuthors and Affiliations\\nCAS Key Laboratory of Nanosystem and Hierarchical Fabrication, CAS Center for Excellence in Nanoscience, National Center for Nanoscience and Technology, Beijing, 100190, China\\nYuchun Zhang,Â\\xa0Lin Liu,Â\\xa0Bin Tu,Â\\xa0Jiahui Guo,Â\\xa0Xing Zhao,Â\\xa0Jingyu WangÂ\\xa0&Â\\xa0Yong Yan\\nUniversity of Chinese Academy of Sciences, Beijing, 100049, China\\nLin Liu,Â\\xa0Jiahui Guo,Â\\xa0Jingyu WangÂ\\xa0&Â\\xa0Yong Yan\\nSchool of Physics, Shandong University, Jinan, 250100, China\\nBin Cui\\nDepartment of Chemistry, School of Chemistry and Biological Engineering, University of Science and Technology Beijing, Beijing, 100083, China\\nYong Yan\\nYou can also search for this author in\\nPubMedÂ\\xa0Google Scholar\\nYou can also search for this author in\\nPubMedÂ\\xa0Google Scholar\\n For a system geometry approximated as one-dimensional (\\\\(\\\\Omega=\\\\left[0,L\\\\right]\\\\), where L is the distance between electrodes), the transport of charged species i (Ag+ and electrons) through the peptides is modeled by the one-dimensional PNP equations as\\nwhere \\\\({C}_{n},{C}_{e}\\\\) is the concentration of the Ag+ and electrons; \\\\({D}_{n},{D}_{e}\\\\) is the spatial-dependent diffusion coefficient, \\\\(\\\\phi\\\\) is the electrostatic potential, and the constant \\\\(\\\\beta=1/{k}_{B}T\\\\) is the inverse Boltzmann energy where \\\\({k}_{B}\\\\) is the Boltzmann constant and T is the absolute temperature. Advertisement\\nAn artificial synapse based on molecular junctions\\nNature Communications\\nvolumeÂ\\xa014, ArticleÂ\\xa0number:Â\\xa0247 (2023)\\nCite this article\\n4757 Accesses\\n12 Citations\\n5 Altmetric\\nMetrics details\\nSubjects\\nAbstract\\nShrinking the size of the electronic synapse to molecular length-scale, for example, an artificial synapse directly fabricated by using individual or monolayer molecules, is important for maximizing the integration density, reducing the energy consumption, and enabling functionalities not easily achieved by other synaptic materials. It is calculated according to the equation \\\\(\\\\frac{{I}_{0,{{{{{\\\\rm{Ag}}}}}}-{{{{{\\\\rm{S}}}}}}}\\\\left({{{{{\\\\rm{peptide}}}}}}\\\\right)}{{I}_{0,{{{{{\\\\rm{Ag}}}}}}-{{{{{\\\\rm{S}}}}}}}\\\\left({{{{{\\\\rm{S{C}}}}}}}_{12}{{{\\\\rm{H}}}}\\\\right)}=\\\\,\\\\frac{{\\\\Psi }_{0,{{{{{\\\\rm{Ag}}}}}}-{{{{{\\\\rm{S}}}}}}}\\\\left({{{{{\\\\rm{peptide}}}}}}\\\\right)}{{\\\\Psi }_{0,{{{{{\\\\rm{Ag}}}}}}-{{{{{\\\\rm{S}}}}}}}\\\\left({{{{{\\\\rm{S{C}}}}}}}_{12}{{{\\\\rm{H}}}}\\\\right)}\\\\), where Ïˆ0, Agâ€“S (SC12H) is assumed to the theoretical value 6.6 Ã— 1014 /cm2 and the Ag 3d intensity attenuated by the sulfur atom I0, Agâ€“S is calculated by \\\\({I}_{0,{{{{{\\\\rm{Ag}}}}}}-{{{{{\\\\rm{S}}}}}}}={I}_{{{{{{\\\\rm{Ag}}}}}}}/{{{{{\\\\rm{e}}}}}}^{-d/{\\\\lambda }_{{{{{{\\\\rm{Ag}}}}}}}}\\\\) (where d is the distance from the sulfur to the top surface of the film and Î»Ag'}, {'url': 'https://www.sciencedirect.com/science/article/pii/S2211285522008229', 'content': 'Biological and artificial synapses. Neurons and synapses are the smallest elements of natural neural networks. Likewise, the foundation of artificial neuron-based neuromorphic computing is to simulate the synaptic characteristics of biological synapses with biomimetic synaptic components [8].'}, {'url': 'https://onlinelibrary.wiley.com/doi/full/10.1002/aelm.202300889', 'content': 'The artificial synapse, a key element for learning and memory operations in neuromorphic computing, requires multi-state characteristics and the capability to change and store its states. The implementation of hardware-based artificial synapses using nonvolatile memory provides significant advantages in terms of energy consumption and circuit ...'}, {'url': 'https://www.nature.com/articles/s41378-023-00487-2', 'content': \"Advertisement\\nRecent progress in three-terminal artificial synapses based on 2D materials: from mechanisms to applications\\nMicrosystems & Nanoengineering\\nvolumeÂ\\xa09, ArticleÂ\\xa0number:Â\\xa016 (2023)\\nCite this article\\n6348 Accesses\\n11 Citations\\n3 Altmetric\\nMetrics details\\nSubjects\\nAbstract\\nSynapses are essential for the transmission of neural signals. Provided by the Springer Nature SharedIt content-sharing initiative\\nAssociated content\\nCollection\\nReaders' Choice: Hot papers of MINE 2023\\nAdvertisement\\nExplore content\\nAbout the journal\\nPublish with us\\nSearch\\nQuick links\\nMicrosystems & Nanoengineering (Microsyst Nanoeng)\\nISSN 2055-7434 (online Similar content being viewed by others\\nA biohybrid synapse with neurotransmitter-mediated plasticity\\nScott T. Keene, Claudia Lubrano, â€¦ Francesca Santoro\\nAn artificial synapse based on molecular junctions\\nYuchun Zhang, Lin Liu, â€¦ Yong Yan\\nNeuromorphic nanoelectronic materials\\nVinod K. Sangwan & Mark C. Hersam\\nIntroduction\\nCognition and memory are the main sources of human intelligence. )\\nnature.com sitemap\\nAbout Nature Portfolio\\nDiscover content\\nPublishing policies\\nAuthor & Researcher services\\nLibraries & institutions\\nAdvertising & partnerships\\nProfessional development\\nRegional websites\\n ArticleÂ\\nGoogle ScholarÂ\\nDownload references\\nAcknowledgements\\nThis work was supported by the National Key R&D Program of China (Grant No. 2019YFB1309701), the National Natural Science Foundation of China (NSFC, Grant Nos. 3020021501839 and 61804009), and the Beijing Institute of Technology Research Fund Program for Young Scholars and Analysis & Testing Center, Beijing Institute of Technology.\\n\"}, {'url': 'https://www.sciencedirect.com/science/article/pii/S2590238524002261', 'content': 'To enhanced the performance of artificial synapses, we shed the light on facile approaches for striking a balance between high performance and stability for lead-free perovskite synapses via substitution elements and optional structures, facilitating the development of perovskite synapse for applications of artificial intelligence.'}]\u001b[0m\u001b[32;1m\u001b[1;3mThe current state of Artificial Synapse is quite advanced and is a key element for learning and memory operations in neuromorphic computing. It requires multi-state characteristics and the capability to change and store its states. The implementation of hardware-based artificial synapses using nonvolatile memory provides significant advantages in terms of energy consumption and circuit complexity. Recent advances have been made in 2D materials-based synaptic devices, categorized by various working principles of artificial synapses. Artificial synapses are memristor-based devices mimicking biological synapses, and they are used in neuromorphic computing systems that process information in a parallel, energy efficient way and store information in an analog, non-volatile form. There's also a focus on creating a hybrid self-activated artificial synapse system of bio-realistic performance and extended modality of sensory inputs [^1^][^2^][^3^][^4^][^5^].\n",
      "\n",
      "As for patents in the field of Artificial Synapse, the information is not very clear. However, there are several research papers and articles that discuss the development and application of artificial synapses. For example, one article discusses an artificial synapse based on molecular junctions, which is important for maximizing the integration density, reducing the energy consumption, and enabling functionalities not easily achieved by other synaptic materials [^6^]. Another article highlights the development of perovskite synapse for applications of artificial intelligence [^7^].\n",
      "\n",
      "Please note that for specific patents, it would be best to conduct a search in a patent database or consult with a patent attorney.\n",
      "\n",
      "[^1^]: [Wiley Online Library](https://onlinelibrary.wiley.com/doi/full/10.1002/aelm.202300889)\n",
      "[^2^]: [Wiley Online Library](https://onlinelibrary.wiley.com/doi/10.1002/smll.202100640)\n",
      "[^3^]: [RSC Publishing](https://pubs.rsc.org/en/content/articlelanding/2021/tc/d1tc01211h)\n",
      "[^4^]: [ScienceDirect](https://www.sciencedirect.com/science/article/pii/S2211285522008229)\n",
      "[^5^]: [Nature](https://www.nature.com/articles/s41378-023-00487-2)\n",
      "[^6^]: [Nature Communications](https://www.nature.com/articles/s41467-023-35817-5)\n",
      "[^7^]: [ScienceDirect](https://www.sciencedirect.com/science/article/pii/S2590238524002261)\n",
      "\u001b[0m\n",
      "\n",
      "\u001b[1m> Finished chain.\u001b[0m\n"
     ]
    },
    {
     "data": {
      "text/plain": [
       "{'input': 'I want to go deeper into neuroscience. What is the current state of Artifical Synapse? What are main patent in that field?',\n",
       " 'output': \"The current state of Artificial Synapse is quite advanced and is a key element for learning and memory operations in neuromorphic computing. It requires multi-state characteristics and the capability to change and store its states. The implementation of hardware-based artificial synapses using nonvolatile memory provides significant advantages in terms of energy consumption and circuit complexity. Recent advances have been made in 2D materials-based synaptic devices, categorized by various working principles of artificial synapses. Artificial synapses are memristor-based devices mimicking biological synapses, and they are used in neuromorphic computing systems that process information in a parallel, energy efficient way and store information in an analog, non-volatile form. There's also a focus on creating a hybrid self-activated artificial synapse system of bio-realistic performance and extended modality of sensory inputs [^1^][^2^][^3^][^4^][^5^].\\n\\nAs for patents in the field of Artificial Synapse, the information is not very clear. However, there are several research papers and articles that discuss the development and application of artificial synapses. For example, one article discusses an artificial synapse based on molecular junctions, which is important for maximizing the integration density, reducing the energy consumption, and enabling functionalities not easily achieved by other synaptic materials [^6^]. Another article highlights the development of perovskite synapse for applications of artificial intelligence [^7^].\\n\\nPlease note that for specific patents, it would be best to conduct a search in a patent database or consult with a patent attorney.\\n\\n[^1^]: [Wiley Online Library](https://onlinelibrary.wiley.com/doi/full/10.1002/aelm.202300889)\\n[^2^]: [Wiley Online Library](https://onlinelibrary.wiley.com/doi/10.1002/smll.202100640)\\n[^3^]: [RSC Publishing](https://pubs.rsc.org/en/content/articlelanding/2021/tc/d1tc01211h)\\n[^4^]: [ScienceDirect](https://www.sciencedirect.com/science/article/pii/S2211285522008229)\\n[^5^]: [Nature](https://www.nature.com/articles/s41378-023-00487-2)\\n[^6^]: [Nature Communications](https://www.nature.com/articles/s41467-023-35817-5)\\n[^7^]: [ScienceDirect](https://www.sciencedirect.com/science/article/pii/S2590238524002261)\\n\"}"
      ]
     },
     "execution_count": 7,
     "metadata": {},
     "output_type": "execute_result"
    }
   ],
   "source": [
    "agent_executor.invoke({\"input\": \"I want to go deeper into neuroscience. What is the current state of Artifical Synapse? What are main patent in that field?\"})"
   ]
  }
 ],
 "metadata": {
  "kernelspec": {
   "display_name": ".venv",
   "language": "python",
   "name": "python3"
  },
  "language_info": {
   "codemirror_mode": {
    "name": "ipython",
    "version": 3
   },
   "file_extension": ".py",
   "mimetype": "text/x-python",
   "name": "python",
   "nbconvert_exporter": "python",
   "pygments_lexer": "ipython3",
   "version": "3.12.3"
  }
 },
 "nbformat": 4,
 "nbformat_minor": 2
}

{
 "cells": [
  {
   "attachments": {},
   "cell_type": "markdown",
   "metadata": {},
   "source": [
    "## Update of current stock prices"
   ]
  },
  {
   "cell_type": "code",
   "execution_count": 1,
   "metadata": {
    "vscode": {
     "languageId": "python"
    }
   },
   "outputs": [
    {
     "name": "stdout",
     "output_type": "stream",
     "text": [
      "Updated ticker prices\n"
     ]
    }
   ],
   "source": [
    "\n",
    "import yfinance as yf\n",
    "from datetime import datetime\n",
    "import pandas\n",
    "# TODO add specialisation for folder from where to take data\n",
    "\n",
    "tickers = pandas.read_csv('./data/securities.csv')\n",
    "\n",
    "def update_ticker_price():\n",
    "    for index, row in tickers.iterrows():\n",
    "        ticker = yf.Ticker(row['ticker']).info\n",
    "        if ticker['quoteType'] == 'EQUITY':\n",
    "            market_price = ticker['regularMarketOpen']\n",
    "            currency = ticker['currency']\n",
    "            current_time = datetime.now().isoformat()\n",
    "            tickers.at[index,'price'] = market_price\n",
    "            tickers.at[index,'price_date'] = current_time\n",
    "            tickers.at[index,'price_currency'] = currency\n",
    "    tickers.to_csv('./data/securities.csv',index=False)\n",
    "    print('Updated ticker prices')\n",
    "def get_ticker_price(ticker):\n",
    "    # todo add date\n",
    "    # TODO will the cvs be updated here??\n",
    "    t = tickers.loc[(tickers['ticker']==ticker),'price']\n",
    "    return t.iloc[0]\n",
    "    \n",
    "update_ticker_price()\n",
    "r = get_ticker_price('ADSK')\n"
   ]
  },
  {
   "cell_type": "code",
   "execution_count": 2,
   "metadata": {
    "vscode": {
     "languageId": "python"
    }
   },
   "outputs": [],
   "source": [
    "import os\n",
    "from dotenv import load_dotenv\n",
    "\n",
    "load_dotenv()\n",
    "\n",
    "endpoint = 'https://api.apilayer.com/exchangerates_data/latest'\n",
    "access_key = os.getenv('APILAYER_ACCESS_TOKEN')\n",
    "\n",
    "currencies = {}\n",
    "\n",
    "def get_rates_for_date(base_currency,target_currency):\n",
    "    # TODO add date to the function\n",
    "    if currency in currencies:\n",
    "        response= currencies[currency]\n",
    "    else:\n",
    "        params = {\n",
    "            'base': DEFAULT_CURRENCY,\n",
    "            'symbols': currency\n",
    "        }\n",
    "        headers= {\n",
    "            \"apikey\": access_key\n",
    "        }\n",
    "        response = requests.get(endpoint, params=params,headers=headers).json()\n",
    "        print(response)\n",
    "        currencies[currency] = response\n",
    "    return currencies[currency] "
   ]
  },
  {
   "cell_type": "code",
   "execution_count": 3,
   "metadata": {
    "vscode": {
     "languageId": "python"
    }
   },
   "outputs": [
    {
     "name": "stdout",
     "output_type": "stream",
     "text": [
      "{'success': True, 'timestamp': 1684649403, 'base': 'EUR', 'date': '2023-05-21', 'rates': {'USD': 1.082363}}\n",
      "{'success': True, 'timestamp': 1684649403, 'base': 'EUR', 'date': '2023-05-21', 'rates': {'RUB': 86.589442}}\n",
      "-534.827508048049\n"
     ]
    },
    {
     "data": {
      "text/html": [
       "<div>\n",
       "<style scoped>\n",
       "    .dataframe tbody tr th:only-of-type {\n",
       "        vertical-align: middle;\n",
       "    }\n",
       "\n",
       "    .dataframe tbody tr th {\n",
       "        vertical-align: top;\n",
       "    }\n",
       "\n",
       "    .dataframe thead th {\n",
       "        text-align: right;\n",
       "    }\n",
       "</style>\n",
       "<table border=\"1\" class=\"dataframe\">\n",
       "  <thead>\n",
       "    <tr style=\"text-align: right;\">\n",
       "      <th></th>\n",
       "      <th>date</th>\n",
       "      <th>amount</th>\n",
       "      <th>price_total</th>\n",
       "      <th>tax_for_transaction</th>\n",
       "      <th>currency</th>\n",
       "      <th>buy_total_to_currency</th>\n",
       "      <th>today_evaluation</th>\n",
       "      <th>profit</th>\n",
       "      <th>percent_of_profit</th>\n",
       "    </tr>\n",
       "    <tr>\n",
       "      <th>ticker</th>\n",
       "      <th></th>\n",
       "      <th></th>\n",
       "      <th></th>\n",
       "      <th></th>\n",
       "      <th></th>\n",
       "      <th></th>\n",
       "      <th></th>\n",
       "      <th></th>\n",
       "      <th></th>\n",
       "    </tr>\n",
       "  </thead>\n",
       "  <tbody>\n",
       "    <tr>\n",
       "      <th>ADSK</th>\n",
       "      <td>2020-12-18T16:28</td>\n",
       "      <td>3</td>\n",
       "      <td>-697.9400</td>\n",
       "      <td>2.80</td>\n",
       "      <td>USDRUB</td>\n",
       "      <td>-551.919730</td>\n",
       "      <td>379.308964</td>\n",
       "      <td>-172.610766</td>\n",
       "      <td>-74.500905</td>\n",
       "    </tr>\n",
       "    <tr>\n",
       "      <th>EPAM</th>\n",
       "      <td>2021-12-03T10:10</td>\n",
       "      <td>1</td>\n",
       "      <td>-622.0000</td>\n",
       "      <td>1.87</td>\n",
       "      <td>USD</td>\n",
       "      <td>-572.940871</td>\n",
       "      <td>221.496855</td>\n",
       "      <td>-351.444016</td>\n",
       "      <td>61.340364</td>\n",
       "    </tr>\n",
       "    <tr>\n",
       "      <th>FXIT</th>\n",
       "      <td>2021-12-03T10:01</td>\n",
       "      <td>3</td>\n",
       "      <td>-35991.9999</td>\n",
       "      <td>107.97</td>\n",
       "      <td>RUB</td>\n",
       "      <td>-414.415766</td>\n",
       "      <td>0.000000</td>\n",
       "      <td>0.000000</td>\n",
       "      <td>0.000000</td>\n",
       "    </tr>\n",
       "    <tr>\n",
       "      <th>PTC</th>\n",
       "      <td>2021-02-17T11:06</td>\n",
       "      <td>1</td>\n",
       "      <td>-146.1900</td>\n",
       "      <td>0.44</td>\n",
       "      <td>USD</td>\n",
       "      <td>-134.659075</td>\n",
       "      <td>123.886349</td>\n",
       "      <td>-10.772726</td>\n",
       "      <td>8.000000</td>\n",
       "    </tr>\n",
       "  </tbody>\n",
       "</table>\n",
       "</div>"
      ],
      "text/plain": [
       "                    date  amount  price_total  tax_for_transaction currency   \n",
       "ticker                                                                        \n",
       "ADSK    2020-12-18T16:28       3    -697.9400                 2.80   USDRUB  \\\n",
       "EPAM    2021-12-03T10:10       1    -622.0000                 1.87      USD   \n",
       "FXIT    2021-12-03T10:01       3  -35991.9999               107.97      RUB   \n",
       "PTC     2021-02-17T11:06       1    -146.1900                 0.44      USD   \n",
       "\n",
       "        buy_total_to_currency  today_evaluation      profit  percent_of_profit  \n",
       "ticker                                                                          \n",
       "ADSK              -551.919730        379.308964 -172.610766         -74.500905  \n",
       "EPAM              -572.940871        221.496855 -351.444016          61.340364  \n",
       "FXIT              -414.415766          0.000000    0.000000           0.000000  \n",
       "PTC               -134.659075        123.886349  -10.772726           8.000000  "
      ]
     },
     "execution_count": 3,
     "metadata": {},
     "output_type": "execute_result"
    }
   ],
   "source": [
    "import requests\n",
    "import numpy\n",
    "DEFAULT_CURRENCY='EUR'\n",
    "\n",
    "\n",
    "import pandas\n",
    "orders = pandas.read_csv('./data/orders.csv')\n",
    "total_profit=0\n",
    "for index, row in orders.iterrows():\n",
    "    currency = orders.at[index,'currency']\n",
    "    \n",
    "    if currency != DEFAULT_CURRENCY:\n",
    "        response = get_rates_for_date(DEFAULT_CURRENCY,currency)\n",
    "        rate = response['rates'][currency]\n",
    "        # TODO convert at the date of order\n",
    "    else:\n",
    "        rate = 1\n",
    "    orders.at[index,'buy_total_to_currency'] = orders.at[index,'price_total'] / rate + orders.at[index,'tax_for_transaction'] / rate\n",
    "    today_price = get_ticker_price(orders.at[index,'ticker'])/ rate\n",
    "    orders.at[index,'today_evaluation'] = today_price * orders.at[index,'amount'] \n",
    "    orders.at[index,'profit'] = orders.at[index,'today_evaluation']  + orders.at[index,'buy_total_to_currency']\n",
    "    orders.at[index,'percent_of_profit'] = orders.at[index,'profit'] / orders.at[index,'buy_total_to_currency'] *100\n",
    "    if (numpy.isnan(orders.at[index,'profit']) == False): total_profit += orders.at[index,'profit']\n",
    "print(total_profit)\n",
    "orders.groupby(['ticker']).sum()\n",
    "# <!-- calculate totals for each ticker -->\n",
    "# <!-- update data with current prices -->\n",
    "# <!-- convert data to default_currency (euro) -->\n",
    "# <!-- calculate total profit -->\n",
    "# <!-- save data to the table -->\n"
   ]
  },
  {
   "cell_type": "code",
   "execution_count": 4,
   "metadata": {
    "vscode": {
     "languageId": "python"
    }
   },
   "outputs": [
    {
     "name": "stdout",
     "output_type": "stream",
     "text": [
      "                  Name  Age  Salary\n",
      "0                Alice   25   50000\n",
      "1                  Bob   30   60000\n",
      "2              Charlie   35   70000\n",
      "Total  AliceBobCharlie   90  180000\n"
     ]
    }
   ],
   "source": [
    "import pandas as pd\n",
    "\n",
    "# Create a sample DataFrame\n",
    "df = pd.DataFrame({\n",
    "    'Name': ['Alice', 'Bob', 'Charlie'],\n",
    "    'Age': [25, 30, 35],\n",
    "    'Salary': [50000, 60000, 70000]\n",
    "})\n",
    "\n",
    "# Add a row at the bottom with the sum of each column\n",
    "df.loc['Total'] = df.sum(axis=0)\n",
    "\n",
    "# Print the result\n",
    "print(df)"
   ]
  }
 ],
 "metadata": {
  "kernelspec": {
   "display_name": "Python 3 (ipykernel)",
   "language": "python",
   "name": "python3"
  }
 },
 "nbformat": 4,
 "nbformat_minor": 4
}

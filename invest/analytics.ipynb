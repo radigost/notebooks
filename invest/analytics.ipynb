{
 "cells": [
  {
   "attachments": {},
   "cell_type": "markdown",
   "metadata": {},
   "source": [
    "## Update of current stock prices"
   ]
  },
  {
   "cell_type": "code",
   "execution_count": 102,
   "metadata": {},
   "outputs": [
    {
     "name": "stdout",
     "output_type": "stream",
     "text": [
      "Updated ticker prices\n"
     ]
    }
   ],
   "source": [
    "\n",
    "import yfinance as yf\n",
    "from datetime import datetime\n",
    "import pandas\n",
    "# TODO add specialisation for folder from where to take data\n",
    "\n",
    "def update_ticker_price():\n",
    "\n",
    "    tickers = pandas.read_csv('./data/securities.csv')\n",
    "\n",
    "    for index, row in tickers.iterrows():\n",
    "        ticker = yf.Ticker(row['ticker']).info\n",
    "        if ticker['quoteType'] == 'EQUITY':\n",
    "            market_price = ticker['regularMarketOpen']\n",
    "            current_time = datetime.now().isoformat()\n",
    "            tickers.at[index,'price'] = market_price\n",
    "            tickers.at[index,'price_date'] = current_time\n",
    "        \n",
    "    tickers.to_csv('./data/securities.csv',index=False)\n",
    "    print('Updated ticker prices')\n",
    "    \n",
    "update_ticker_price()\n"
   ]
  },
  {
   "cell_type": "code",
   "execution_count": 103,
   "metadata": {},
   "outputs": [],
   "source": [
    "import os\n",
    "from dotenv import load_dotenv\n",
    "\n",
    "load_dotenv()\n",
    "\n",
    "endpoint = 'https://api.apilayer.com/exchangerates_data/latest'\n",
    "access_key = os.getenv('APILAYER_ACCESS_TOKEN')\n",
    "\n",
    "currencies = {}\n",
    "\n",
    "def get_rates_for_date(base_currency,target_currency):\n",
    "    # TODO add date to the function\n",
    "    if currency in currencies:\n",
    "        response= currencies[currency]\n",
    "    else:\n",
    "        params = {\n",
    "            'base': DEFAULT_CURRENCY,\n",
    "            'symbols': currency\n",
    "        }\n",
    "        headers= {\n",
    "            \"apikey\": access_key\n",
    "        }\n",
    "        response = requests.get(endpoint, params=params,headers=headers).json()\n",
    "        print(response)\n",
    "        currencies[currency] = response\n",
    "    return currencies[currency] "
   ]
  },
  {
   "cell_type": "code",
   "execution_count": 104,
   "metadata": {},
   "outputs": [
    {
     "name": "stdout",
     "output_type": "stream",
     "text": [
      "{'success': True, 'timestamp': 1683005523, 'base': 'EUR', 'date': '2023-05-02', 'rates': {'USD': 1.099022}}\n",
      "{'success': True, 'timestamp': 1683005523, 'base': 'EUR', 'date': '2023-05-02', 'rates': {'RUB': 88.207458}}\n"
     ]
    },
    {
     "name": "stderr",
     "output_type": "stream",
     "text": [
      "/var/folders/nx/w3ff9pp52293hhppfhvt5vqmqqhdss/T/ipykernel_42211/2026920023.py:17: FutureWarning: The default value of numeric_only in DataFrameGroupBy.sum is deprecated. In a future version, numeric_only will default to False. Either specify numeric_only or select only columns which should be valid for the function.\n",
      "  orders.groupby(['ticker']).sum()\n"
     ]
    },
    {
     "data": {
      "text/html": [
       "<div>\n",
       "<style scoped>\n",
       "    .dataframe tbody tr th:only-of-type {\n",
       "        vertical-align: middle;\n",
       "    }\n",
       "\n",
       "    .dataframe tbody tr th {\n",
       "        vertical-align: top;\n",
       "    }\n",
       "\n",
       "    .dataframe thead th {\n",
       "        text-align: right;\n",
       "    }\n",
       "</style>\n",
       "<table border=\"1\" class=\"dataframe\">\n",
       "  <thead>\n",
       "    <tr style=\"text-align: right;\">\n",
       "      <th></th>\n",
       "      <th>amount</th>\n",
       "      <th>price_total</th>\n",
       "      <th>tax_for_transaction</th>\n",
       "      <th>price_total_to_currency</th>\n",
       "    </tr>\n",
       "    <tr>\n",
       "      <th>ticker</th>\n",
       "      <th></th>\n",
       "      <th></th>\n",
       "      <th></th>\n",
       "      <th></th>\n",
       "    </tr>\n",
       "  </thead>\n",
       "  <tbody>\n",
       "    <tr>\n",
       "      <th>ADSK</th>\n",
       "      <td>3</td>\n",
       "      <td>-697.9400</td>\n",
       "      <td>2.80</td>\n",
       "      <td>-543.550076</td>\n",
       "    </tr>\n",
       "    <tr>\n",
       "      <th>EPAM</th>\n",
       "      <td>1</td>\n",
       "      <td>-622.0000</td>\n",
       "      <td>1.87</td>\n",
       "      <td>-564.256221</td>\n",
       "    </tr>\n",
       "    <tr>\n",
       "      <th>FXIT</th>\n",
       "      <td>3</td>\n",
       "      <td>-35991.9999</td>\n",
       "      <td>107.97</td>\n",
       "      <td>-406.814012</td>\n",
       "    </tr>\n",
       "    <tr>\n",
       "      <th>PTC</th>\n",
       "      <td>1</td>\n",
       "      <td>-146.1900</td>\n",
       "      <td>0.44</td>\n",
       "      <td>-132.617909</td>\n",
       "    </tr>\n",
       "  </tbody>\n",
       "</table>\n",
       "</div>"
      ],
      "text/plain": [
       "        amount  price_total  tax_for_transaction  price_total_to_currency\n",
       "ticker                                                                   \n",
       "ADSK         3    -697.9400                 2.80              -543.550076\n",
       "EPAM         1    -622.0000                 1.87              -564.256221\n",
       "FXIT         3  -35991.9999               107.97              -406.814012\n",
       "PTC          1    -146.1900                 0.44              -132.617909"
      ]
     },
     "execution_count": 104,
     "metadata": {},
     "output_type": "execute_result"
    }
   ],
   "source": [
    "import requests\n",
    "DEFAULT_CURRENCY='EUR'\n",
    "\n",
    "\n",
    "import pandas\n",
    "orders = pandas.read_csv('./data/orders.csv')\n",
    "for index, row in orders.iterrows():\n",
    "    currency = orders.at[index,'currency']\n",
    "    \n",
    "    if currency != DEFAULT_CURRENCY:\n",
    "        response = get_rates_for_date(DEFAULT_CURRENCY,currency)\n",
    "        rate = response['rates'][currency]\n",
    "        # TODO convert at the date of order\n",
    "    else:\n",
    "        rate = 1\n",
    "    orders.at[index,'price_total_to_currency'] = orders.at[index,'price_total'] / rate + orders.at[index,'tax_for_transaction'] / rate\n",
    "orders.groupby(['ticker']).sum()\n",
    "# <!-- calculate totals for each ticker -->\n",
    "# <!-- update data with current prices -->\n",
    "# <!-- convert data to default_currency (euro) -->\n",
    "# <!-- calculate total profit -->\n",
    "# <!-- save data to the table -->\n"
   ]
  }
 ],
 "metadata": {
  "kernelspec": {
   "display_name": "Python 3 (ipykernel)",
   "language": "python",
   "name": "python3"
  },
  "language_info": {
   "codemirror_mode": {
    "name": "ipython",
    "version": 3
   },
   "file_extension": ".py",
   "mimetype": "text/x-python",
   "name": "python",
   "nbconvert_exporter": "python",
   "pygments_lexer": "ipython3",
   "version": "3.11.0"
  }
 },
 "nbformat": 4,
 "nbformat_minor": 4
}
